{
 "cells": [
  {
   "cell_type": "markdown",
   "metadata": {
    "id": "B2-bsTAx7TMA"
   },
   "source": [
    "<center><h1>INFO 7390: Assignment 1</h1></center>\n",
    "\n",
    "<h3><b>Name:</b> Aniket Mirajkar</h3>\n",
    "<h3><b>NU ID:</b> 001563245</h3>"
   ]
  },
  {
   "cell_type": "markdown",
   "metadata": {
    "id": "C95GkUBsFK2N"
   },
   "source": [
    "# Abstract\n",
    "\n",
    "In this notebook, I have building a single neuron neural network i.e. logistic regression unit along with log loss for evaluating the loss and gradient descent for optimizing the weight and bias. I have made use of Sigmoid and ReLu activation functions to study their impact on the Gender classification dataset from Kaggle. I have also implemented regularization using the L1 (Lasso) method and L2 (Ridge) method. The dataset can be found at below link:\n",
    "\n",
    "https://www.kaggle.com/datasets/elakiricoder/gender-classification-dataset\n",
    "\n",
    "\n",
    "\n",
    "\n",
    "\n",
    "\n"
   ]
  },
  {
   "cell_type": "code",
   "execution_count": 1,
   "metadata": {
    "id": "7NVsiBVhueFr"
   },
   "outputs": [],
   "source": [
    "import pandas as pd\n",
    "from sklearn.metrics import confusion_matrix\n",
    "import math\n",
    "import numpy as np\n",
    "import seaborn as sns\n",
    "from scipy import stats\n",
    "import matplotlib.pyplot as plt\n",
    "from collections import defaultdict"
   ]
  },
  {
   "cell_type": "code",
   "execution_count": 2,
   "metadata": {
    "id": "hnCDcstOvHyQ"
   },
   "outputs": [],
   "source": [
    "url = 'https://raw.githubusercontent.com/mirajkarani/INFO_7390/master/gender_classification_v7.csv'\n",
    "df = pd.read_csv(url)"
   ]
  },
  {
   "cell_type": "code",
   "execution_count": 3,
   "metadata": {
    "colab": {
     "base_uri": "https://localhost:8080/",
     "height": 206
    },
    "id": "JyGGzLNfg5Pa",
    "outputId": "5ce19f23-9239-4073-ff75-3a1510eb8eeb"
   },
   "outputs": [
    {
     "data": {
      "text/html": [
       "\n",
       "  <div id=\"df-52f30da6-99db-4d51-8825-f80811971624\">\n",
       "    <div class=\"colab-df-container\">\n",
       "      <div>\n",
       "<style scoped>\n",
       "    .dataframe tbody tr th:only-of-type {\n",
       "        vertical-align: middle;\n",
       "    }\n",
       "\n",
       "    .dataframe tbody tr th {\n",
       "        vertical-align: top;\n",
       "    }\n",
       "\n",
       "    .dataframe thead th {\n",
       "        text-align: right;\n",
       "    }\n",
       "</style>\n",
       "<table border=\"1\" class=\"dataframe\">\n",
       "  <thead>\n",
       "    <tr style=\"text-align: right;\">\n",
       "      <th></th>\n",
       "      <th>long_hair</th>\n",
       "      <th>forehead_width_cm</th>\n",
       "      <th>forehead_height_cm</th>\n",
       "      <th>nose_wide</th>\n",
       "      <th>nose_long</th>\n",
       "      <th>lips_thin</th>\n",
       "      <th>distance_nose_to_lip_long</th>\n",
       "      <th>gender</th>\n",
       "    </tr>\n",
       "  </thead>\n",
       "  <tbody>\n",
       "    <tr>\n",
       "      <th>0</th>\n",
       "      <td>1</td>\n",
       "      <td>11.8</td>\n",
       "      <td>6.1</td>\n",
       "      <td>1</td>\n",
       "      <td>0</td>\n",
       "      <td>1</td>\n",
       "      <td>1</td>\n",
       "      <td>Male</td>\n",
       "    </tr>\n",
       "    <tr>\n",
       "      <th>1</th>\n",
       "      <td>0</td>\n",
       "      <td>14.0</td>\n",
       "      <td>5.4</td>\n",
       "      <td>0</td>\n",
       "      <td>0</td>\n",
       "      <td>1</td>\n",
       "      <td>0</td>\n",
       "      <td>Female</td>\n",
       "    </tr>\n",
       "    <tr>\n",
       "      <th>2</th>\n",
       "      <td>0</td>\n",
       "      <td>11.8</td>\n",
       "      <td>6.3</td>\n",
       "      <td>1</td>\n",
       "      <td>1</td>\n",
       "      <td>1</td>\n",
       "      <td>1</td>\n",
       "      <td>Male</td>\n",
       "    </tr>\n",
       "    <tr>\n",
       "      <th>3</th>\n",
       "      <td>0</td>\n",
       "      <td>14.4</td>\n",
       "      <td>6.1</td>\n",
       "      <td>0</td>\n",
       "      <td>1</td>\n",
       "      <td>1</td>\n",
       "      <td>1</td>\n",
       "      <td>Male</td>\n",
       "    </tr>\n",
       "    <tr>\n",
       "      <th>4</th>\n",
       "      <td>1</td>\n",
       "      <td>13.5</td>\n",
       "      <td>5.9</td>\n",
       "      <td>0</td>\n",
       "      <td>0</td>\n",
       "      <td>0</td>\n",
       "      <td>0</td>\n",
       "      <td>Female</td>\n",
       "    </tr>\n",
       "  </tbody>\n",
       "</table>\n",
       "</div>\n",
       "      <button class=\"colab-df-convert\" onclick=\"convertToInteractive('df-52f30da6-99db-4d51-8825-f80811971624')\"\n",
       "              title=\"Convert this dataframe to an interactive table.\"\n",
       "              style=\"display:none;\">\n",
       "        \n",
       "  <svg xmlns=\"http://www.w3.org/2000/svg\" height=\"24px\"viewBox=\"0 0 24 24\"\n",
       "       width=\"24px\">\n",
       "    <path d=\"M0 0h24v24H0V0z\" fill=\"none\"/>\n",
       "    <path d=\"M18.56 5.44l.94 2.06.94-2.06 2.06-.94-2.06-.94-.94-2.06-.94 2.06-2.06.94zm-11 1L8.5 8.5l.94-2.06 2.06-.94-2.06-.94L8.5 2.5l-.94 2.06-2.06.94zm10 10l.94 2.06.94-2.06 2.06-.94-2.06-.94-.94-2.06-.94 2.06-2.06.94z\"/><path d=\"M17.41 7.96l-1.37-1.37c-.4-.4-.92-.59-1.43-.59-.52 0-1.04.2-1.43.59L10.3 9.45l-7.72 7.72c-.78.78-.78 2.05 0 2.83L4 21.41c.39.39.9.59 1.41.59.51 0 1.02-.2 1.41-.59l7.78-7.78 2.81-2.81c.8-.78.8-2.07 0-2.86zM5.41 20L4 18.59l7.72-7.72 1.47 1.35L5.41 20z\"/>\n",
       "  </svg>\n",
       "      </button>\n",
       "      \n",
       "  <style>\n",
       "    .colab-df-container {\n",
       "      display:flex;\n",
       "      flex-wrap:wrap;\n",
       "      gap: 12px;\n",
       "    }\n",
       "\n",
       "    .colab-df-convert {\n",
       "      background-color: #E8F0FE;\n",
       "      border: none;\n",
       "      border-radius: 50%;\n",
       "      cursor: pointer;\n",
       "      display: none;\n",
       "      fill: #1967D2;\n",
       "      height: 32px;\n",
       "      padding: 0 0 0 0;\n",
       "      width: 32px;\n",
       "    }\n",
       "\n",
       "    .colab-df-convert:hover {\n",
       "      background-color: #E2EBFA;\n",
       "      box-shadow: 0px 1px 2px rgba(60, 64, 67, 0.3), 0px 1px 3px 1px rgba(60, 64, 67, 0.15);\n",
       "      fill: #174EA6;\n",
       "    }\n",
       "\n",
       "    [theme=dark] .colab-df-convert {\n",
       "      background-color: #3B4455;\n",
       "      fill: #D2E3FC;\n",
       "    }\n",
       "\n",
       "    [theme=dark] .colab-df-convert:hover {\n",
       "      background-color: #434B5C;\n",
       "      box-shadow: 0px 1px 3px 1px rgba(0, 0, 0, 0.15);\n",
       "      filter: drop-shadow(0px 1px 2px rgba(0, 0, 0, 0.3));\n",
       "      fill: #FFFFFF;\n",
       "    }\n",
       "  </style>\n",
       "\n",
       "      <script>\n",
       "        const buttonEl =\n",
       "          document.querySelector('#df-52f30da6-99db-4d51-8825-f80811971624 button.colab-df-convert');\n",
       "        buttonEl.style.display =\n",
       "          google.colab.kernel.accessAllowed ? 'block' : 'none';\n",
       "\n",
       "        async function convertToInteractive(key) {\n",
       "          const element = document.querySelector('#df-52f30da6-99db-4d51-8825-f80811971624');\n",
       "          const dataTable =\n",
       "            await google.colab.kernel.invokeFunction('convertToInteractive',\n",
       "                                                     [key], {});\n",
       "          if (!dataTable) return;\n",
       "\n",
       "          const docLinkHtml = 'Like what you see? Visit the ' +\n",
       "            '<a target=\"_blank\" href=https://colab.research.google.com/notebooks/data_table.ipynb>data table notebook</a>'\n",
       "            + ' to learn more about interactive tables.';\n",
       "          element.innerHTML = '';\n",
       "          dataTable['output_type'] = 'display_data';\n",
       "          await google.colab.output.renderOutput(dataTable, element);\n",
       "          const docLink = document.createElement('div');\n",
       "          docLink.innerHTML = docLinkHtml;\n",
       "          element.appendChild(docLink);\n",
       "        }\n",
       "      </script>\n",
       "    </div>\n",
       "  </div>\n",
       "  "
      ],
      "text/plain": [
       "   long_hair  forehead_width_cm  forehead_height_cm  nose_wide  nose_long  \\\n",
       "0          1               11.8                 6.1          1          0   \n",
       "1          0               14.0                 5.4          0          0   \n",
       "2          0               11.8                 6.3          1          1   \n",
       "3          0               14.4                 6.1          0          1   \n",
       "4          1               13.5                 5.9          0          0   \n",
       "\n",
       "   lips_thin  distance_nose_to_lip_long  gender  \n",
       "0          1                          1    Male  \n",
       "1          1                          0  Female  \n",
       "2          1                          1    Male  \n",
       "3          1                          1    Male  \n",
       "4          0                          0  Female  "
      ]
     },
     "execution_count": 3,
     "metadata": {},
     "output_type": "execute_result"
    }
   ],
   "source": [
    "df.head()"
   ]
  },
  {
   "cell_type": "code",
   "execution_count": 4,
   "metadata": {
    "id": "yDHe9A86yfM1"
   },
   "outputs": [],
   "source": [
    "#Encoding the labels to categorical values\n",
    "df.gender = df.gender.astype('category').cat.codes"
   ]
  },
  {
   "cell_type": "code",
   "execution_count": 5,
   "metadata": {
    "colab": {
     "base_uri": "https://localhost:8080/"
    },
    "id": "NRtPhgc3zIM3",
    "outputId": "4e967367-2e54-4e7c-f4e1-68457de30e37"
   },
   "outputs": [
    {
     "data": {
      "text/plain": [
       "long_hair                    0\n",
       "forehead_width_cm            0\n",
       "forehead_height_cm           0\n",
       "nose_wide                    0\n",
       "nose_long                    0\n",
       "lips_thin                    0\n",
       "distance_nose_to_lip_long    0\n",
       "gender                       0\n",
       "dtype: int64"
      ]
     },
     "execution_count": 5,
     "metadata": {},
     "output_type": "execute_result"
    }
   ],
   "source": [
    "df.isnull().sum()"
   ]
  },
  {
   "cell_type": "markdown",
   "metadata": {
    "id": "ddsZ3TO1PpI-"
   },
   "source": [
    "As we can see above, the dataset does not contain any null values and the values for the columns are either in floating point range or categorical (0,1) in nature."
   ]
  },
  {
   "cell_type": "code",
   "execution_count": 6,
   "metadata": {
    "colab": {
     "base_uri": "https://localhost:8080/",
     "height": 1000
    },
    "id": "88aMnfKgDFWU",
    "outputId": "fb7ba729-e49c-457e-bef8-0599d5708e92"
   },
   "outputs": [
    {
     "data": {
      "image/png": "[encoded data removed]",
      "text/plain": [
       "<Figure size 432x288 with 1 Axes>"
      ]
     },
     "metadata": {
      "needs_background": "light"
     },
     "output_type": "display_data"
    },
    {
     "data": {
      "image/png": "[encoded data removed]",
      "text/plain": [
       "<Figure size 432x288 with 1 Axes>"
      ]
     },
     "metadata": {
      "needs_background": "light"
     },
     "output_type": "display_data"
    },
    {
     "data": {
      "image/png": "[encoded data removed]",
      "text/plain": [
       "<Figure size 432x288 with 1 Axes>"
      ]
     },
     "metadata": {
      "needs_background": "light"
     },
     "output_type": "display_data"
    },
    {
     "data": {
      "image/png": "[encoded data removed]",
      "text/plain": [
       "<Figure size 432x288 with 1 Axes>"
      ]
     },
     "metadata": {
      "needs_background": "light"
     },
     "output_type": "display_data"
    },
    {
     "data": {
      "image/png": "[encoded data removed]",
      "text/plain": [
       "<Figure size 432x288 with 1 Axes>"
      ]
     },
     "metadata": {
      "needs_background": "light"
     },
     "output_type": "display_data"
    },
    {
     "data": {
      "image/png": "[encoded data removed]",
      "text/plain": [
       "<Figure size 432x288 with 1 Axes>"
      ]
     },
     "metadata": {
      "needs_background": "light"
     },
     "output_type": "display_data"
    },
    {
     "data": {
      "image/png": "[encoded data removed]",
      "text/plain": [
       "<Figure size 432x288 with 1 Axes>"
      ]
     },
     "metadata": {
      "needs_background": "light"
     },
     "output_type": "display_data"
    },
    {
     "data": {
      "image/png": "[encoded data removed]",
      "text/plain": [
       "<Figure size 432x288 with 1 Axes>"
      ]
     },
     "metadata": {
      "needs_background": "light"
     },
     "output_type": "display_data"
    }
   ],
   "source": [
    "for i, col in enumerate(df.columns):\n",
    "    plt.figure(i)\n",
    "    sns.histplot(df[col],bins=50)"
   ]
  },
  {
   "cell_type": "markdown",
   "metadata": {
    "id": "Fkjskrn_QiWg"
   },
   "source": [
    "# Train-test split\n",
    "\n",
    "Below I have split the dataset into training and testing sets and converted it to numpy arrays for further processing."
   ]
  },
  {
   "cell_type": "code",
   "execution_count": 7,
   "metadata": {
    "id": "79X-GXFohZmg"
   },
   "outputs": [],
   "source": [
    "#Creating a train-test split\n",
    "size = int(0.8 * len(df))\n",
    "\n",
    "train_set = df[:size]\n",
    "test_set = df[size:]"
   ]
  },
  {
   "cell_type": "code",
   "execution_count": 8,
   "metadata": {
    "colab": {
     "base_uri": "https://localhost:8080/"
    },
    "id": "KfsCjSdyhlud",
    "outputId": "a906eba0-4609-4b47-a8be-6dbba7f52b3d"
   },
   "outputs": [
    {
     "name": "stderr",
     "output_type": "stream",
     "text": [
      "/usr/local/lib/python3.7/dist-packages/ipykernel_launcher.py:3: FutureWarning: In a future version of pandas all arguments of DataFrame.drop except for the argument 'labels' will be keyword-only\n",
      "  This is separate from the ipykernel package so we can avoid doing imports until\n",
      "/usr/local/lib/python3.7/dist-packages/ipykernel_launcher.py:6: FutureWarning: In a future version of pandas all arguments of DataFrame.drop except for the argument 'labels' will be keyword-only\n",
      "  \n"
     ]
    }
   ],
   "source": [
    "#Separating labels and predictor variables\n",
    "y_train = train_set[['gender']]\n",
    "X_train = train_set.drop('gender', 1)\n",
    "\n",
    "y_test = test_set[['gender']]\n",
    "X_test = test_set.drop('gender', 1)"
   ]
  },
  {
   "cell_type": "code",
   "execution_count": 9,
   "metadata": {
    "colab": {
     "base_uri": "https://localhost:8080/"
    },
    "id": "TZ4KwJOrI4xF",
    "outputId": "56d882c9-548c-423a-d811-1d9db2fd36ee"
   },
   "outputs": [
    {
     "name": "stdout",
     "output_type": "stream",
     "text": [
      "(4000, 7)\n",
      "(4000, 1)\n"
     ]
    }
   ],
   "source": [
    "print(X_train.shape)\n",
    "print(y_train.shape)"
   ]
  },
  {
   "cell_type": "code",
   "execution_count": 10,
   "metadata": {
    "id": "AHR2ki6BGfwH"
   },
   "outputs": [],
   "source": [
    "#Converting dataframe into numpy array\n",
    "y_train = np.array(y_train)\n",
    "X_train = X_train.to_numpy()\n",
    "\n",
    "y_test = np.array(y_test)\n",
    "X_test = X_test.to_numpy()"
   ]
  },
  {
   "cell_type": "code",
   "execution_count": 11,
   "metadata": {
    "id": "sTDkYMh6jGbN"
   },
   "outputs": [],
   "source": [
    "#Defining the initial weights and bias\n",
    "weight = np.zeros(X_train.shape[1])\n",
    "bias = 0"
   ]
  },
  {
   "cell_type": "markdown",
   "metadata": {
    "id": "hezbBqL9Fb-1"
   },
   "source": [
    "# Building the logistic regression model with Sigmoid activation function\n",
    "\n",
    "The sigmoid function is denoted as follows: \n",
    "\n",
    "\n",
    "<center>σ(x)  =  1 / (1 + e^(-x))</center>\n",
    "\n",
    "\n",
    "The sigmoid function squeezes the values between (0 to 1) and hence, it is especially useful for models used for predicting the probabilities as the output. Hence, sigmoid function provides a good estimation in logistic regression as the outcome is a probability in the range [0,1]."
   ]
  },
  {
   "cell_type": "code",
   "execution_count": 12,
   "metadata": {
    "id": "MEdZsRcFjJy5"
   },
   "outputs": [],
   "source": [
    "#Defining the sigmoid function \n",
    "def Sigmoid(x):\n",
    "    return 1 / (1 + math.exp(-x))"
   ]
  },
  {
   "cell_type": "code",
   "execution_count": 13,
   "metadata": {
    "colab": {
     "base_uri": "https://localhost:8080/"
    },
    "id": "EjJjmSl5jMLE",
    "outputId": "32651a59-a1d5-41da-ba80-e9c1d96f504d"
   },
   "outputs": [
    {
     "name": "stdout",
     "output_type": "stream",
     "text": [
      "[396.08410318]\n"
     ]
    }
   ],
   "source": [
    "loss = 0\n",
    "y_pred = defaultdict(list)\n",
    "for i in range(X_train.shape[0]):\n",
    "    y_pred = Sigmoid(np.dot(X_train[i],weight) + bias) \n",
    "    y = y_train[i]\n",
    "    loss += np.multiply(np.log(y_pred), y) + np.multiply(np.log(1-y_pred), 1-y)\n",
    "loss = - loss/X_train.shape[1]\n",
    "print(loss)"
   ]
  },
  {
   "cell_type": "code",
   "execution_count": 14,
   "metadata": {
    "id": "5Guorja0MFTx"
   },
   "outputs": [],
   "source": [
    "# Defining the accuracy metrics \n",
    "def accuracy_metrics(actual, predicted):\n",
    "    correct = 0\n",
    "    for i in range(len(actual)):\n",
    "        if (actual[i]>0.5) == (predicted[i]>0.5):\n",
    "            correct += 1\n",
    "    return correct / float(len(actual)) * 100.0"
   ]
  },
  {
   "cell_type": "code",
   "execution_count": 15,
   "metadata": {
    "id": "iwrMR65jMTx1"
   },
   "outputs": [],
   "source": [
    "# Defining the training hyperparameters\n",
    "max_epoch = 100\n",
    "learning_rate = 0.01\n",
    "Training_data = {\"trainLoss\":[],\"testLoss\":[],\"trainAccuracy\":[],\"testAccuracy\":[]}"
   ]
  },
  {
   "cell_type": "code",
   "execution_count": 16,
   "metadata": {
    "id": "aQZNIfH4B18c"
   },
   "outputs": [],
   "source": [
    "def fit_train():\n",
    "    y_pred = []\n",
    "    loss = 0\n",
    "    for i in range(X_train.shape[0]):\n",
    "        y_pred_temp = Sigmoid(np.dot(X_train[i],weight) + bias)        \n",
    "        loss += np.multiply(np.log(y_pred_temp), y_train[i])+ np.multiply(np.log(1-y_pred_temp), 1-y_train[i]) \n",
    "        y_pred.append(y_pred_temp)\n",
    "    loss = -loss/X_train.shape[1]\n",
    "    \n",
    "    return y_pred, loss"
   ]
  },
  {
   "cell_type": "code",
   "execution_count": 17,
   "metadata": {
    "id": "wHkqqfOtB3T7"
   },
   "outputs": [],
   "source": [
    "def fit_test():\n",
    "    y_pred_test = []\n",
    "    loss_test = 0\n",
    "    for i in range(X_test.shape[0]):\n",
    "        y_pred_temp = Sigmoid(np.dot(X_test[i],weight)+bias)        \n",
    "        loss_test += -(np.multiply(np.log(y_pred_temp), y_test[i])+ np.multiply(np.log(1-y_pred_temp), 1-y_test[i]))\n",
    "        y_pred_test.append(y_pred_temp)    \n",
    "        \n",
    "    return y_pred_test, loss_test"
   ]
  },
  {
   "cell_type": "code",
   "execution_count": 18,
   "metadata": {
    "id": "AHezVxwoB5GQ"
   },
   "outputs": [],
   "source": [
    "def update_bias(bias):\n",
    "    grad_bias = 0\n",
    "    grad_w = np.zeros(len(weight))\n",
    "    for i in range(X_train.shape[0]):        \n",
    "        grad_bias += (y_pred[i] - y_train[i])*(y_pred[i])*(1-y_pred[i]) #dJ/db\n",
    "        for j in range(len(weight)):\n",
    "            grad_w[j] += (y_pred[i] - y_train[i])*(y_pred[i])*(1-y_pred[i])*(X_train[i][j])\n",
    "\n",
    "    bias = bias - grad_bias*learning_rate/X_train.shape[0]   \n",
    "    \n",
    "    return grad_w, bias"
   ]
  },
  {
   "cell_type": "code",
   "execution_count": 19,
   "metadata": {
    "id": "ajF0MD4vB63i"
   },
   "outputs": [],
   "source": [
    "def update_weight(): \n",
    "    for j in range(len(weight)):\n",
    "        weight[j] = weight[j] - grad_w[j]*learning_rate/X_train.shape[0]\n",
    "    \n",
    "    return weight"
   ]
  },
  {
   "cell_type": "code",
   "execution_count": 20,
   "metadata": {
    "colab": {
     "base_uri": "https://localhost:8080/"
    },
    "id": "rH-GOnlgAo_g",
    "outputId": "1e3d8607-e97d-48ce-f381-ba7adfb0dc78"
   },
   "outputs": [
    {
     "name": "stdout",
     "output_type": "stream",
     "text": [
      "Training loss:396.084103\n",
      "Test loss:0.346574\n",
      "Training accuracy: 49.875000\n",
      "Validation accuracy: 50.549451\n",
      "Training loss:393.944447\n",
      "Test loss:0.344840\n",
      "Training accuracy: 50.125000\n",
      "Validation accuracy: 49.450549\n",
      "Training loss:392.095567\n",
      "Test loss:0.343244\n",
      "Training accuracy: 50.125000\n",
      "Validation accuracy: 49.450549\n",
      "Training loss:390.277239\n",
      "Test loss:0.341648\n",
      "Training accuracy: 50.125000\n",
      "Validation accuracy: 49.450549\n",
      "Training loss:388.474409\n",
      "Test loss:0.340059\n",
      "Training accuracy: 50.125000\n",
      "Validation accuracy: 49.450549\n",
      "Training loss:386.686049\n",
      "Test loss:0.338482\n",
      "Training accuracy: 50.125000\n",
      "Validation accuracy: 49.450549\n",
      "Training loss:384.911997\n",
      "Test loss:0.336916\n",
      "Training accuracy: 50.125000\n",
      "Validation accuracy: 49.450549\n",
      "Training loss:383.152165\n",
      "Test loss:0.335364\n",
      "Training accuracy: 73.650000\n",
      "Validation accuracy: 74.225774\n",
      "Training loss:381.406482\n",
      "Test loss:0.333824\n",
      "Training accuracy: 79.200000\n",
      "Validation accuracy: 80.419580\n",
      "Training loss:379.674876\n",
      "Test loss:0.332296\n",
      "Training accuracy: 79.200000\n",
      "Validation accuracy: 80.419580\n"
     ]
    }
   ],
   "source": [
    "for epoch in range(max_epoch):\n",
    "\n",
    "    y_pred, loss = fit_train()\n",
    "    y_pred_test, loss_test = fit_test()\n",
    "       \n",
    "    loss_test = loss_test/(2*X_test.shape[0])\n",
    "    trainAcc = accuracy_metrics(y_train,y_pred)\n",
    "    testAcc = accuracy_metrics(y_test,y_pred_test)\n",
    "    \n",
    "    Training_data[\"trainLoss\"].append(loss)\n",
    "    Training_data[\"testLoss\"].append(loss_test)\n",
    "    Training_data[\"trainAccuracy\"].append(trainAcc)\n",
    "    Training_data[\"testAccuracy\"].append(testAcc)\n",
    "    \n",
    "    \n",
    "    if epoch%10==0:\n",
    "        print(\"Training loss:%f\" %(loss))\n",
    "        print(\"Test loss:%f\" %(loss_test))\n",
    "        print(\"Training accuracy: %f\" %(trainAcc))\n",
    "        print(\"Validation accuracy: %f\" %(testAcc))\n",
    "    y_pred = np.array(y_pred)\n",
    "    \n",
    "    grad_w, bias = update_bias(bias)\n",
    "    \n",
    "    weight = update_weight()"
   ]
  },
  {
   "cell_type": "markdown",
   "metadata": {
    "id": "utNu7htfFkV_"
   },
   "source": [
    "# Analyzing the accuracy and f1 score of the model\n",
    "\n",
    "We can see that the logistic regression model which we have built performs very well with validation accuracy of 80.42% and F1 score of 0.9."
   ]
  },
  {
   "cell_type": "code",
   "execution_count": 21,
   "metadata": {
    "colab": {
     "base_uri": "https://localhost:8080/",
     "height": 404
    },
    "id": "Z6mvaRyl74yM",
    "outputId": "d3d8caae-219b-4cb8-8b20-2109811acdb4"
   },
   "outputs": [
    {
     "data": {
      "image/png": "[encoded data removed]",
      "text/plain": [
       "<Figure size 432x432 with 1 Axes>"
      ]
     },
     "metadata": {
      "needs_background": "light"
     },
     "output_type": "display_data"
    }
   ],
   "source": [
    "# Compute the confusion matrix\n",
    "\n",
    "y_pred_cm = np.rint(y_pred)\n",
    "\n",
    "cm = confusion_matrix(y_train, y_pred_cm, labels=[0, 1])\n",
    "\n",
    "plt.figure(figsize=(6,6))\n",
    "sns.heatmap(cm, annot=True, fmt='g', vmin=0, cmap='Greens', cbar=False)\n",
    "plt.xticks(ticks=[0.5,1.5], labels = [\"Female\", \"Male\"])\n",
    "plt.yticks(ticks=[0.5,1.5], labels = [\"Female\", \"Male\"])\n",
    "plt.xlabel(\"Predicted\")\n",
    "plt.ylabel(\"Actual\")\n",
    "plt.title(\"Confusion Matrix\")\n",
    "plt.show()"
   ]
  },
  {
   "cell_type": "code",
   "execution_count": 22,
   "metadata": {
    "colab": {
     "base_uri": "https://localhost:8080/"
    },
    "id": "H6usNK4emyxl",
    "outputId": "37ad7dae-9a79-4d34-d939-4804c32d7580"
   },
   "outputs": [
    {
     "name": "stdout",
     "output_type": "stream",
     "text": [
      "Training accuracy: 79.200000\n",
      "Validation accuracy: 80.419580\n"
     ]
    }
   ],
   "source": [
    "for epoch in range(max_epoch):\n",
    "  if epoch%100 == 0:  \n",
    "    print(\"Training accuracy: %f\" %(trainAcc))\n",
    "    print(\"Validation accuracy: %f\" %(testAcc))"
   ]
  },
  {
   "cell_type": "code",
   "execution_count": 23,
   "metadata": {
    "colab": {
     "base_uri": "https://localhost:8080/"
    },
    "id": "CaiDSpgTG45u",
    "outputId": "c8bdaf47-2d96-4fb9-de0b-8c20edb12c3f"
   },
   "outputs": [
    {
     "name": "stdout",
     "output_type": "stream",
     "text": [
      "F1 score: 0.9991416309012876\n"
     ]
    }
   ],
   "source": [
    "tp = cm [0][0]\n",
    "fp = cm [1][0]\n",
    "tn = cm [1][1]\n",
    "fn = cm [0][1]\n",
    "\n",
    "precision = tp / (tp + fp)\n",
    "recall = tp / (tp + fp)\n",
    "\n",
    "f1 = 2 * (precision * recall) / (precision + recall)\n",
    "\n",
    "print(\"F1 score: {}\".format(f1,2))"
   ]
  },
  {
   "cell_type": "code",
   "execution_count": 24,
   "metadata": {
    "colab": {
     "base_uri": "https://localhost:8080/",
     "height": 265
    },
    "id": "wt-eXInu-bI9",
    "outputId": "7c07a28c-7ae6-421d-a45f-729e14c28cac"
   },
   "outputs": [
    {
     "data": {
      "image/png": "[encoded data removed]",
      "text/plain": [
       "<Figure size 432x288 with 1 Axes>"
      ]
     },
     "metadata": {
      "needs_background": "light"
     },
     "output_type": "display_data"
    }
   ],
   "source": [
    "plt.plot(Training_data['trainAccuracy'],label='Training Accuracy',color='red')\n",
    "plt.plot(Training_data['testAccuracy'],label='Test Accuracy',color='green')\n",
    "plt.legend(bbox_to_anchor=(1.05, 1), loc=2, borderaxespad=0.)\n",
    "plt.show()"
   ]
  },
  {
   "cell_type": "code",
   "execution_count": 25,
   "metadata": {
    "colab": {
     "base_uri": "https://localhost:8080/",
     "height": 265
    },
    "id": "I1r8uqIPDE7Z",
    "outputId": "eb824280-7ad6-4eb3-d01a-83b096a8fdd5"
   },
   "outputs": [
    {
     "data": {
      "image/png": "[encoded data removed]",
      "text/plain": [
       "<Figure size 432x288 with 1 Axes>"
      ]
     },
     "metadata": {
      "needs_background": "light"
     },
     "output_type": "display_data"
    }
   ],
   "source": [
    "plt.plot(Training_data['trainLoss'],label='Training Loss',color='orange')\n",
    "plt.plot(Training_data['testLoss'],label='Test Loss',color='blue')\n",
    "plt.legend(bbox_to_anchor=(1.05, 1), loc=2, borderaxespad=0.)\n",
    "plt.show()"
   ]
  },
  {
   "cell_type": "markdown",
   "metadata": {
    "id": "s95hl3FNFETD"
   },
   "source": [
    "# Replacing the Sigmoid activation function with ReLu\n",
    "\n",
    "Rectified Linear Units or ReLu is one of the most widely used activation functions as it solves the vanishing gradient problem which plagues the sigmoid function. It returns 0 if it receives any negative input, but for any positive value x, it returns that value back.\n",
    "\n",
    "ReLu function is denoted as follows:\n",
    "\n",
    "<center>f(x) = max(0,x)</center>"
   ]
  },
  {
   "cell_type": "code",
   "execution_count": 26,
   "metadata": {
    "id": "B3Bu9o4NW-NZ"
   },
   "outputs": [],
   "source": [
    "def ReLu(x):\n",
    "    return max(0.0, x)"
   ]
  },
  {
   "cell_type": "code",
   "execution_count": 27,
   "metadata": {
    "id": "F3hQKKtQW9Hp"
   },
   "outputs": [],
   "source": [
    "loss = 0\n",
    "y_pred = defaultdict(list)\n",
    "for i in range(X_train.shape[0]):\n",
    "    y_pred = ReLu(np.dot(X_train[i],weight) + bias)\n",
    "    y = y_train[i]\n",
    "    loss += (y - y_pred)*(y - y_pred)\n",
    "loss = loss/2"
   ]
  },
  {
   "cell_type": "code",
   "execution_count": 28,
   "metadata": {
    "id": "6xS1a9gI7oI_"
   },
   "outputs": [],
   "source": [
    "def fit_train_relu():\n",
    "    y_pred = []\n",
    "    loss = 0\n",
    "    for i in range(X_train.shape[0]):\n",
    "        y_pred_temp = ReLu(np.dot(X_train[i],weight) + bias)        \n",
    "        loss += (y_train[i] - y_pred_temp)*(y_train[i] - y_pred_temp) \n",
    "        y_pred.append(y_pred_temp)\n",
    "    loss = loss/(2 * X_train.shape[0])\n",
    "    \n",
    "    return y_pred, loss"
   ]
  },
  {
   "cell_type": "code",
   "execution_count": 29,
   "metadata": {
    "id": "6qBWyk8n79Qg"
   },
   "outputs": [],
   "source": [
    "def fit_test_relu():\n",
    "    y_pred_test = []\n",
    "    loss_test = 0\n",
    "    for i in range(X_test.shape[0]):\n",
    "        y_pred_temp = ReLu(np.dot(X_test[i],weight)+bias)        \n",
    "        loss_test += (y_test[i] - y_pred_temp)*(y_test[i] - y_pred_temp) \n",
    "        y_pred_test.append(y_pred_temp) \n",
    "    return y_pred_test, loss_test"
   ]
  },
  {
   "cell_type": "code",
   "execution_count": 30,
   "metadata": {
    "colab": {
     "base_uri": "https://localhost:8080/"
    },
    "id": "g9ywZ7WBXDLq",
    "outputId": "6df44e74-cd72-4594-a977-37b154561ea3"
   },
   "outputs": [
    {
     "name": "stdout",
     "output_type": "stream",
     "text": [
      "Training loss:0.191798\n",
      "est loss:0.189743\n",
      "Training accuracy: 49.875000\n",
      "Validation accuracy: 50.549451\n"
     ]
    },
    {
     "name": "stderr",
     "output_type": "stream",
     "text": [
      "/usr/local/lib/python3.7/dist-packages/ipykernel_launcher.py:25: VisibleDeprecationWarning: Creating an ndarray from ragged nested sequences (which is a list-or-tuple of lists-or-tuples-or ndarrays with different lengths or shapes) is deprecated. If you meant to do this, you must specify 'dtype=object' when creating the ndarray.\n"
     ]
    },
    {
     "name": "stdout",
     "output_type": "stream",
     "text": [
      "Training loss:0.087560\n",
      "est loss:0.087069\n",
      "Training accuracy: 96.425000\n",
      "Validation accuracy: 97.302697\n",
      "Training loss:0.085557\n",
      "est loss:0.085057\n",
      "Training accuracy: 96.450000\n",
      "Validation accuracy: 97.302697\n",
      "Training loss:0.083624\n",
      "est loss:0.083114\n",
      "Training accuracy: 96.425000\n",
      "Validation accuracy: 97.302697\n",
      "Training loss:0.081758\n",
      "est loss:0.081238\n",
      "Training accuracy: 96.350000\n",
      "Validation accuracy: 97.202797\n"
     ]
    }
   ],
   "source": [
    "#Training the neural network with relu activation function\n",
    "max_epoch = 50\n",
    "\n",
    "for epoch in range(max_epoch):\n",
    "\n",
    "  y_pred, loss = fit_train_relu()\n",
    "  y_pred_test, loss_test = fit_test_relu()\n",
    "        \n",
    "  loss_test = loss_test/(2*X_test.shape[0])\n",
    "  trainAcc = accuracy_metrics(y_train,y_pred)\n",
    "  testAcc = accuracy_metrics(y_test,y_pred_test)\n",
    "    \n",
    "  Training_data[\"trainLoss\"].append(loss)\n",
    "  Training_data[\"testLoss\"].append(loss_test)\n",
    "  Training_data[\"trainAccuracy\"].append(trainAcc)\n",
    "  Training_data[\"testAccuracy\"].append(testAcc)\n",
    "    \n",
    "    \n",
    "  if epoch%10==0:\n",
    "    print(\"Training loss:%f\" %(loss))\n",
    "    print(\"est loss:%f\" %(loss_test))\n",
    "    print(\"Training accuracy: %f\" %(trainAcc))\n",
    "    print(\"Validation accuracy: %f\" %(testAcc))\n",
    "        \n",
    "  y_pred = np.array(y_pred)  \n",
    "  grad_w, bias = update_bias(bias)\n",
    "  weight = update_weight()"
   ]
  },
  {
   "cell_type": "code",
   "execution_count": 31,
   "metadata": {
    "colab": {
     "base_uri": "https://localhost:8080/",
     "height": 265
    },
    "id": "tkaST9nXgQee",
    "outputId": "42cb10aa-0a2c-4c6f-c2c1-6bf9ee11cc1f"
   },
   "outputs": [
    {
     "data": {
      "image/png": "[encoded data removed]",
      "text/plain": [
       "<Figure size 432x288 with 1 Axes>"
      ]
     },
     "metadata": {
      "needs_background": "light"
     },
     "output_type": "display_data"
    }
   ],
   "source": [
    "plt.plot(Training_data['trainAccuracy'],label='Training Accuracy',color='red')\n",
    "plt.plot(Training_data['testAccuracy'],label='Test Accuracy',color='green')\n",
    "plt.legend(bbox_to_anchor=(1.05, 1), loc=2, borderaxespad=0.)\n",
    "plt.show()"
   ]
  },
  {
   "cell_type": "code",
   "execution_count": 32,
   "metadata": {
    "colab": {
     "base_uri": "https://localhost:8080/",
     "height": 404
    },
    "id": "ispgaFUIpVD0",
    "outputId": "0a99fa83-eea4-44ae-aaf5-9c07d89a5b7a"
   },
   "outputs": [
    {
     "data": {
      "image/png": "[encoded data removed]",
      "text/plain": [
       "<Figure size 432x432 with 1 Axes>"
      ]
     },
     "metadata": {
      "needs_background": "light"
     },
     "output_type": "display_data"
    }
   ],
   "source": [
    "y_pred_cm = np.rint(y_pred)\n",
    "\n",
    "cm = confusion_matrix(y_train, y_pred_cm, labels=[0, 1])\n",
    "\n",
    "plt.figure(figsize=(6,6))\n",
    "sns.heatmap(cm, annot=True, fmt='g', vmin=0, cmap='Greens', cbar=False)\n",
    "plt.xticks(ticks=[0.5,1.5], labels = [\"Female\", \"Male\"])\n",
    "plt.yticks(ticks=[0.5,1.5], labels = [\"Female\", \"Male\"])\n",
    "plt.xlabel(\"Predicted\")\n",
    "plt.ylabel(\"Actual\")\n",
    "plt.title(\"Confusion Matrix\")\n",
    "plt.show()"
   ]
  },
  {
   "cell_type": "code",
   "execution_count": 33,
   "metadata": {
    "colab": {
     "base_uri": "https://localhost:8080/"
    },
    "id": "N4Tx6LhcEwp6",
    "outputId": "8b98c8bc-2dd1-4bcc-981b-98fa8245a72e"
   },
   "outputs": [
    {
     "name": "stdout",
     "output_type": "stream",
     "text": [
      "Training accuracy: 96.300000\n",
      "Validation accuracy: 97.202797\n"
     ]
    }
   ],
   "source": [
    "for epoch in range(max_epoch):\n",
    "  if epoch%50 == 0:  \n",
    "    print(\"Training accuracy: %f\" %(trainAcc))\n",
    "    print(\"Validation accuracy: %f\" %(testAcc))"
   ]
  },
  {
   "cell_type": "code",
   "execution_count": 34,
   "metadata": {
    "colab": {
     "base_uri": "https://localhost:8080/"
    },
    "id": "DTN4lPvCE2jL",
    "outputId": "1adefea7-fbdd-4e8d-fb6c-1b3bd085357c"
   },
   "outputs": [
    {
     "name": "stdout",
     "output_type": "stream",
     "text": [
      "F1 score: 0.96\n"
     ]
    }
   ],
   "source": [
    "tp = cm [0][0]\n",
    "fp = cm [1][0]\n",
    "tn = cm [1][1]\n",
    "fn = cm [0][1]\n",
    "\n",
    "precision = tp / (tp + fp)\n",
    "recall = tp / (tp + fn)\n",
    "\n",
    "f1 = 2 * (precision * recall) / (precision + recall)\n",
    "\n",
    "print(\"F1 score: {}\".format(round(f1,2)))"
   ]
  },
  {
   "cell_type": "markdown",
   "metadata": {
    "id": "g-zqazL9FyA_"
   },
   "source": [
    "# Adding L1 (Lasso) and L2 (Ridge) Regression to the model\n",
    "\n",
    "I have tested the model with varying ranges of learning rate, epochs as well as l1 and l2 penalties and we can see that there is significant drop in model performance upon applying the ridge and lasso regression to the model. "
   ]
  },
  {
   "cell_type": "code",
   "execution_count": 35,
   "metadata": {
    "id": "RzJX5JLtHzhH"
   },
   "outputs": [],
   "source": [
    "weight = np.zeros(X_train.shape[1])\n",
    "bias = 0"
   ]
  },
  {
   "cell_type": "code",
   "execution_count": 36,
   "metadata": {
    "id": "GQmRzE6QGMw_"
   },
   "outputs": [],
   "source": [
    "def update_bias(bias):\n",
    "    grad_bias = 0\n",
    "    l1_penality = 0.05\n",
    "    a,b = X_train.shape\n",
    "    grad_w = np.zeros(len(weight))\n",
    "    for i in range(X_train.shape[0]):        \n",
    "        grad_bias += (y_pred[i] - y_train[i])*(y_pred[i])*(1-y_pred[i]) \n",
    "        for j in range(len(weight)):\n",
    "            if grad_w[j] > 0:\n",
    "              grad_w[j] += (-(2*(X_train[i][j])*(y_train[i] - y_pred[i])) + l1_penality)/a\n",
    "            else:\n",
    "              grad_w[j] += (-(2*(X_train[i][j])*(y_train[i] - y_pred[i]) ) - l1_penality )/a\n",
    "\n",
    "    bias = bias - grad_bias*learning_rate/X_train.shape[0]   \n",
    "    \n",
    "    return grad_w, bias"
   ]
  },
  {
   "cell_type": "code",
   "execution_count": 37,
   "metadata": {
    "colab": {
     "base_uri": "https://localhost:8080/"
    },
    "id": "-J5glgq9HtwD",
    "outputId": "f8593643-80e7-4082-aca1-0abc88d5e4b0"
   },
   "outputs": [
    {
     "name": "stdout",
     "output_type": "stream",
     "text": [
      "Training loss:396.084103\n",
      "Test loss:0.346574\n",
      "Training accuracy: 49.875000\n",
      "Validation accuracy: 50.549451\n"
     ]
    }
   ],
   "source": [
    "max_epoch = 100\n",
    "learning_rate = 0.001\n",
    "for epoch in range(max_epoch):\n",
    "\n",
    "    y_pred, loss = fit_train()\n",
    "    y_pred_test, loss_test = fit_test()\n",
    "       \n",
    "    loss_test = loss_test/(2*X_test.shape[0])\n",
    "    trainAcc = accuracy_metrics(y_train,y_pred)\n",
    "    testAcc = accuracy_metrics(y_test,y_pred_test)\n",
    "    \n",
    "    Training_data[\"trainLoss\"].append(loss)\n",
    "    Training_data[\"testLoss\"].append(loss_test)\n",
    "    Training_data[\"trainAccuracy\"].append(trainAcc)\n",
    "    Training_data[\"testAccuracy\"].append(testAcc)\n",
    "    \n",
    "    \n",
    "    if epoch%100 == 0:\n",
    "        print(\"Training loss:%f\" %(loss))\n",
    "        print(\"Test loss:%f\" %(loss_test))\n",
    "        print(\"Training accuracy: %f\" %(trainAcc))\n",
    "        print(\"Validation accuracy: %f\" %(testAcc))\n",
    "    y_pred = np.array(y_pred)\n",
    "    \n",
    "    grad_w, bias = update_bias(bias)\n",
    "    \n",
    "    weight = update_weight()"
   ]
  },
  {
   "cell_type": "code",
   "execution_count": 38,
   "metadata": {
    "id": "IzXgbIXFK-vn"
   },
   "outputs": [],
   "source": [
    "weight = np.zeros(X_train.shape[1])\n",
    "bias = 0"
   ]
  },
  {
   "cell_type": "code",
   "execution_count": 39,
   "metadata": {
    "id": "7pOab9PqH16e"
   },
   "outputs": [],
   "source": [
    "def update_bias(bias):\n",
    "    grad_bias = 0\n",
    "    l2_penality = 0.001\n",
    "    a,b = X_train.shape\n",
    "    grad_w = np.zeros(len(weight))\n",
    "    for i in range(X_train.shape[0]):        \n",
    "        grad_bias += (y_pred[i] - y_train[i])*(y_pred[i])*(1-y_pred[i]) \n",
    "        for j in range(len(weight)):\n",
    "            grad_w[j] += -(2*(X_train[i][j])*(y_train[i] - y_pred[i]) + (2*l2_penality*weight[j]))/a \n",
    "\n",
    "    bias = bias - grad_bias*learning_rate/X_train.shape[0]   \n",
    "    \n",
    "    return grad_w, bias"
   ]
  },
  {
   "cell_type": "code",
   "execution_count": 40,
   "metadata": {
    "colab": {
     "base_uri": "https://localhost:8080/"
    },
    "id": "r4ZZvJdoL7Gh",
    "outputId": "7be06f62-ee16-403f-b73a-8a891dc19ca5"
   },
   "outputs": [
    {
     "name": "stdout",
     "output_type": "stream",
     "text": [
      "Training loss:396.084103\n",
      "Test loss:0.346574\n",
      "Training accuracy: 49.875000\n",
      "Validation accuracy: 50.549451\n"
     ]
    }
   ],
   "source": [
    "max_epoch = 100\n",
    "\n",
    "for epoch in range(max_epoch):\n",
    "\n",
    "    y_pred, loss = fit_train()\n",
    "    y_pred_test, loss_test = fit_test()\n",
    "       \n",
    "    loss_test = loss_test/(2*X_test.shape[0])\n",
    "    trainAcc = accuracy_metrics(y_train,y_pred)\n",
    "    testAcc = accuracy_metrics(y_test,y_pred_test)\n",
    "    \n",
    "    Training_data[\"trainLoss\"].append(loss)\n",
    "    Training_data[\"testLoss\"].append(loss_test)\n",
    "    Training_data[\"trainAccuracy\"].append(trainAcc)\n",
    "    Training_data[\"testAccuracy\"].append(testAcc)\n",
    "    \n",
    "    \n",
    "    if epoch%100 == 0:\n",
    "        print(\"Training loss:%f\" %(loss))\n",
    "        print(\"Test loss:%f\" %(loss_test))\n",
    "        print(\"Training accuracy: %f\" %(trainAcc))\n",
    "        print(\"Validation accuracy: %f\" %(testAcc))\n",
    "    y_pred = np.array(y_pred)\n",
    "    \n",
    "    grad_w, bias = update_bias(bias)\n",
    "    \n",
    "    weight = update_weight()"
   ]
  },
  {
   "cell_type": "markdown",
   "metadata": {
    "id": "L_-3n4xmYa0H"
   },
   "source": [
    "# Conclusion\n",
    "\n",
    "The logistic regression model performs well for the sigmoid activation function with an accuracy of 80.42% and f-1 score of 0.9. I have also implemented relu activation function for the model in place of sigmoid which provided positive outcome for the model evaluation. More exploratory analysis is required for finding the optiumum values of l1 and l2 regularization for improving the model performance."
   ]
  },
  {
   "cell_type": "markdown",
   "metadata": {
    "id": "NtiHOVMqmeeI"
   },
   "source": [
    "MIT License\n",
    "\n",
    "Copyright (c) 2022 Aniket Mirajkar\n",
    "\n",
    "Permission is hereby granted, free of charge, to any person obtaining a copy of this software and associated documentation files (the \"Software\"), to deal in the Software without restriction, including without limitation the rights to use, copy, modify, merge, publish, distribute, sublicense, and/or sell copies of the Software, and to permit persons to whom the Software is furnished to do so, subject to the following conditions:\n",
    "\n",
    "The above copyright notice and this permission notice shall be included in all copies or substantial portions of the Software.\n",
    "\n",
    "THE SOFTWARE IS PROVIDED \"AS IS\", WITHOUT WARRANTY OF ANY KIND, EXPRESS OR IMPLIED, INCLUDING BUT NOT LIMITED TO THE WARRANTIES OF MERCHANTABILITY, FITNESS FOR A PARTICULAR PURPOSE AND NONINFRINGEMENT. IN NO EVENT SHALL THE AUTHORS OR COPYRIGHT HOLDERS BE LIABLE FOR ANY CLAIM, DAMAGES OR OTHER LIABILITY, WHETHER IN AN ACTION OF CONTRACT, TORT OR OTHERWISE, ARISING FROM, OUT OF OR IN CONNECTION WITH THE SOFTWARE OR THE USE OR OTHER DEALINGS IN THE SOFTWARE."
   ]
  }
 ],
 "metadata": {
  "colab": {
   "collapsed_sections": [],
   "name": "Aniket Mirajkar 001563245.ipynb",
   "provenance": []
  },
  "kernelspec": {
   "display_name": "Python 3 (ipykernel)",
   "language": "python",
   "name": "python3"
  },
  "language_info": {
   "codemirror_mode": {
    "name": "ipython",
    "version": 3
   },
   "file_extension": ".py",
   "mimetype": "text/x-python",
   "name": "python",
   "nbconvert_exporter": "python",
   "pygments_lexer": "ipython3",
   "version": "3.9.7"
  }
 },
 "nbformat": 4,
 "nbformat_minor": 1
}
